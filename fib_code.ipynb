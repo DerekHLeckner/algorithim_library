{
 "cells": [
  {
   "cell_type": "markdown",
   "metadata": {},
   "source": [
    "# Fib algo"
   ]
  },
  {
   "cell_type": "code",
   "execution_count": 54,
   "metadata": {},
   "outputs": [],
   "source": [
    "def find_fib():\n",
    "    fib_list = [0,1]\n",
    "    initial_length = len(fib_list)\n",
    "    chosen_nth_number = input(\"Please tell us what number of fib you want us to find: \")\n",
    "    range_number = int(chosen_nth_number) - initial_length\n",
    "    for i in range(range_number):\n",
    "        new_fib = fib_list[-1]+fib_list[-2]\n",
    "        fib_list.append(new_fib)\n",
    "    print(f\"For the {chosen_nth_number} of fib, the answer is {fib_list[-1]}\")"
   ]
  },
  {
   "cell_type": "code",
   "execution_count": 55,
   "metadata": {},
   "outputs": [
    {
     "name": "stdout",
     "output_type": "stream",
     "text": [
      "Please tell us what number of fib you want us to find: 5\n",
      "For the 5 of fib, the answer is 3\n"
     ]
    }
   ],
   "source": [
    "find_fib()"
   ]
  },
  {
   "cell_type": "code",
   "execution_count": null,
   "metadata": {},
   "outputs": [],
   "source": []
  }
 ],
 "metadata": {
  "kernelspec": {
   "display_name": "Python 3",
   "language": "python",
   "name": "python3"
  },
  "language_info": {
   "codemirror_mode": {
    "name": "ipython",
    "version": 3
   },
   "file_extension": ".py",
   "mimetype": "text/x-python",
   "name": "python",
   "nbconvert_exporter": "python",
   "pygments_lexer": "ipython3",
   "version": "3.8.3"
  }
 },
 "nbformat": 4,
 "nbformat_minor": 4
}
